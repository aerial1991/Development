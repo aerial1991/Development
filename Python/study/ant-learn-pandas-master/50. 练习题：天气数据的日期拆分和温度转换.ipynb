{
 "cells": [
  {
   "cell_type": "markdown",
   "id": "499b199d",
   "metadata": {},
   "source": [
    "## 天气数据的处理"
   ]
  },
  {
   "cell_type": "markdown",
   "id": "7f5ea41d",
   "metadata": {},
   "source": [
    "### 1. 读取excel数据"
   ]
  },
  {
   "cell_type": "code",
   "execution_count": 1,
   "id": "0bbf83c8",
   "metadata": {},
   "outputs": [],
   "source": [
    "import pandas as pd"
   ]
  },
  {
   "cell_type": "code",
   "execution_count": 2,
   "id": "24d3294d",
   "metadata": {},
   "outputs": [],
   "source": [
    "df = pd.read_excel(\"./datas/beijing_tianqi/北京10年天气数据.xlsx\", engine=\"openpyxl\")"
   ]
  },
  {
   "cell_type": "code",
   "execution_count": 3,
   "id": "a175ea76",
   "metadata": {},
   "outputs": [
    {
     "data": {
      "text/html": [
       "<div>\n",
       "<style scoped>\n",
       "    .dataframe tbody tr th:only-of-type {\n",
       "        vertical-align: middle;\n",
       "    }\n",
       "\n",
       "    .dataframe tbody tr th {\n",
       "        vertical-align: top;\n",
       "    }\n",
       "\n",
       "    .dataframe thead th {\n",
       "        text-align: right;\n",
       "    }\n",
       "</style>\n",
       "<table border=\"1\" class=\"dataframe\">\n",
       "  <thead>\n",
       "    <tr style=\"text-align: right;\">\n",
       "      <th></th>\n",
       "      <th>日期</th>\n",
       "      <th>最高温</th>\n",
       "      <th>最低温</th>\n",
       "      <th>天气</th>\n",
       "      <th>风力风向</th>\n",
       "    </tr>\n",
       "  </thead>\n",
       "  <tbody>\n",
       "    <tr>\n",
       "      <th>0</th>\n",
       "      <td>2012-01-01 周日</td>\n",
       "      <td>3°</td>\n",
       "      <td>-4°</td>\n",
       "      <td>多云~阴</td>\n",
       "      <td>无持续风向微风</td>\n",
       "    </tr>\n",
       "    <tr>\n",
       "      <th>1</th>\n",
       "      <td>2012-01-02 周一</td>\n",
       "      <td>2°</td>\n",
       "      <td>-6°</td>\n",
       "      <td>晴</td>\n",
       "      <td>北风4-5级</td>\n",
       "    </tr>\n",
       "    <tr>\n",
       "      <th>2</th>\n",
       "      <td>2012-01-03 周二</td>\n",
       "      <td>1°</td>\n",
       "      <td>-8°</td>\n",
       "      <td>晴</td>\n",
       "      <td>北风~无持续风向3-4级~微风</td>\n",
       "    </tr>\n",
       "    <tr>\n",
       "      <th>3</th>\n",
       "      <td>2012-01-04 周三</td>\n",
       "      <td>1°</td>\n",
       "      <td>-10°</td>\n",
       "      <td>晴</td>\n",
       "      <td>无持续风向微风</td>\n",
       "    </tr>\n",
       "    <tr>\n",
       "      <th>4</th>\n",
       "      <td>2012-01-05 周四</td>\n",
       "      <td>2°</td>\n",
       "      <td>-8°</td>\n",
       "      <td>晴~多云</td>\n",
       "      <td>无持续风向微风</td>\n",
       "    </tr>\n",
       "  </tbody>\n",
       "</table>\n",
       "</div>"
      ],
      "text/plain": [
       "              日期 最高温   最低温    天气             风力风向\n",
       "0  2012-01-01 周日  3°   -4°  多云~阴          无持续风向微风\n",
       "1  2012-01-02 周一  2°   -6°     晴           北风4-5级\n",
       "2  2012-01-03 周二  1°   -8°     晴  北风~无持续风向3-4级~微风\n",
       "3  2012-01-04 周三  1°  -10°     晴          无持续风向微风\n",
       "4  2012-01-05 周四  2°   -8°  晴~多云          无持续风向微风"
      ]
     },
     "execution_count": 3,
     "metadata": {},
     "output_type": "execute_result"
    }
   ],
   "source": [
    "df.head()"
   ]
  },
  {
   "cell_type": "markdown",
   "id": "7507bd78",
   "metadata": {},
   "source": [
    "### 2. 日期拆成两列"
   ]
  },
  {
   "cell_type": "code",
   "execution_count": 11,
   "id": "9c946905",
   "metadata": {},
   "outputs": [],
   "source": [
    "def split_date(row):\n",
    "    date, week = row[\"日期\"].split()\n",
    "    return date, week"
   ]
  },
  {
   "cell_type": "code",
   "execution_count": 14,
   "id": "a921dd21",
   "metadata": {},
   "outputs": [],
   "source": [
    "df[[\"日期\", \"星期\"]] = df.apply(split_date, axis=1, result_type=\"expand\")"
   ]
  },
  {
   "cell_type": "code",
   "execution_count": 15,
   "id": "d68d9012",
   "metadata": {},
   "outputs": [
    {
     "data": {
      "text/html": [
       "<div>\n",
       "<style scoped>\n",
       "    .dataframe tbody tr th:only-of-type {\n",
       "        vertical-align: middle;\n",
       "    }\n",
       "\n",
       "    .dataframe tbody tr th {\n",
       "        vertical-align: top;\n",
       "    }\n",
       "\n",
       "    .dataframe thead th {\n",
       "        text-align: right;\n",
       "    }\n",
       "</style>\n",
       "<table border=\"1\" class=\"dataframe\">\n",
       "  <thead>\n",
       "    <tr style=\"text-align: right;\">\n",
       "      <th></th>\n",
       "      <th>日期</th>\n",
       "      <th>最高温</th>\n",
       "      <th>最低温</th>\n",
       "      <th>天气</th>\n",
       "      <th>风力风向</th>\n",
       "      <th>星期</th>\n",
       "    </tr>\n",
       "  </thead>\n",
       "  <tbody>\n",
       "    <tr>\n",
       "      <th>0</th>\n",
       "      <td>2012-01-01</td>\n",
       "      <td>3°</td>\n",
       "      <td>-4°</td>\n",
       "      <td>多云~阴</td>\n",
       "      <td>无持续风向微风</td>\n",
       "      <td>周日</td>\n",
       "    </tr>\n",
       "    <tr>\n",
       "      <th>1</th>\n",
       "      <td>2012-01-02</td>\n",
       "      <td>2°</td>\n",
       "      <td>-6°</td>\n",
       "      <td>晴</td>\n",
       "      <td>北风4-5级</td>\n",
       "      <td>周一</td>\n",
       "    </tr>\n",
       "    <tr>\n",
       "      <th>2</th>\n",
       "      <td>2012-01-03</td>\n",
       "      <td>1°</td>\n",
       "      <td>-8°</td>\n",
       "      <td>晴</td>\n",
       "      <td>北风~无持续风向3-4级~微风</td>\n",
       "      <td>周二</td>\n",
       "    </tr>\n",
       "    <tr>\n",
       "      <th>3</th>\n",
       "      <td>2012-01-04</td>\n",
       "      <td>1°</td>\n",
       "      <td>-10°</td>\n",
       "      <td>晴</td>\n",
       "      <td>无持续风向微风</td>\n",
       "      <td>周三</td>\n",
       "    </tr>\n",
       "    <tr>\n",
       "      <th>4</th>\n",
       "      <td>2012-01-05</td>\n",
       "      <td>2°</td>\n",
       "      <td>-8°</td>\n",
       "      <td>晴~多云</td>\n",
       "      <td>无持续风向微风</td>\n",
       "      <td>周四</td>\n",
       "    </tr>\n",
       "  </tbody>\n",
       "</table>\n",
       "</div>"
      ],
      "text/plain": [
       "           日期 最高温   最低温    天气             风力风向  星期\n",
       "0  2012-01-01  3°   -4°  多云~阴          无持续风向微风  周日\n",
       "1  2012-01-02  2°   -6°     晴           北风4-5级  周一\n",
       "2  2012-01-03  1°   -8°     晴  北风~无持续风向3-4级~微风  周二\n",
       "3  2012-01-04  1°  -10°     晴          无持续风向微风  周三\n",
       "4  2012-01-05  2°   -8°  晴~多云          无持续风向微风  周四"
      ]
     },
     "execution_count": 15,
     "metadata": {},
     "output_type": "execute_result"
    }
   ],
   "source": [
    "df.head()"
   ]
  },
  {
   "cell_type": "markdown",
   "id": "374eb9e0",
   "metadata": {},
   "source": [
    "### 3. 温度字符串的处理"
   ]
  },
  {
   "cell_type": "code",
   "execution_count": 16,
   "id": "c339e8cd",
   "metadata": {},
   "outputs": [],
   "source": [
    "df[\"最高温\"] = df[\"最高温\"].map(lambda x : int(str(x).replace(\"°\", \"\")))"
   ]
  },
  {
   "cell_type": "code",
   "execution_count": 21,
   "id": "716d7f42",
   "metadata": {},
   "outputs": [],
   "source": [
    "def get_wendu(x):\n",
    "    x = str(x).replace(\"°\", \"\")\n",
    "    if x:\n",
    "        return int(x)\n",
    "    return 0\n",
    "\n",
    "df[\"最低温\"] = df[\"最低温\"].map(get_wendu)"
   ]
  },
  {
   "cell_type": "code",
   "execution_count": 22,
   "id": "eae1ff19",
   "metadata": {},
   "outputs": [
    {
     "data": {
      "text/html": [
       "<div>\n",
       "<style scoped>\n",
       "    .dataframe tbody tr th:only-of-type {\n",
       "        vertical-align: middle;\n",
       "    }\n",
       "\n",
       "    .dataframe tbody tr th {\n",
       "        vertical-align: top;\n",
       "    }\n",
       "\n",
       "    .dataframe thead th {\n",
       "        text-align: right;\n",
       "    }\n",
       "</style>\n",
       "<table border=\"1\" class=\"dataframe\">\n",
       "  <thead>\n",
       "    <tr style=\"text-align: right;\">\n",
       "      <th></th>\n",
       "      <th>日期</th>\n",
       "      <th>最高温</th>\n",
       "      <th>最低温</th>\n",
       "      <th>天气</th>\n",
       "      <th>风力风向</th>\n",
       "      <th>星期</th>\n",
       "    </tr>\n",
       "  </thead>\n",
       "  <tbody>\n",
       "    <tr>\n",
       "      <th>0</th>\n",
       "      <td>2012-01-01</td>\n",
       "      <td>3</td>\n",
       "      <td>-4</td>\n",
       "      <td>多云~阴</td>\n",
       "      <td>无持续风向微风</td>\n",
       "      <td>周日</td>\n",
       "    </tr>\n",
       "    <tr>\n",
       "      <th>1</th>\n",
       "      <td>2012-01-02</td>\n",
       "      <td>2</td>\n",
       "      <td>-6</td>\n",
       "      <td>晴</td>\n",
       "      <td>北风4-5级</td>\n",
       "      <td>周一</td>\n",
       "    </tr>\n",
       "    <tr>\n",
       "      <th>2</th>\n",
       "      <td>2012-01-03</td>\n",
       "      <td>1</td>\n",
       "      <td>-8</td>\n",
       "      <td>晴</td>\n",
       "      <td>北风~无持续风向3-4级~微风</td>\n",
       "      <td>周二</td>\n",
       "    </tr>\n",
       "    <tr>\n",
       "      <th>3</th>\n",
       "      <td>2012-01-04</td>\n",
       "      <td>1</td>\n",
       "      <td>-10</td>\n",
       "      <td>晴</td>\n",
       "      <td>无持续风向微风</td>\n",
       "      <td>周三</td>\n",
       "    </tr>\n",
       "    <tr>\n",
       "      <th>4</th>\n",
       "      <td>2012-01-05</td>\n",
       "      <td>2</td>\n",
       "      <td>-8</td>\n",
       "      <td>晴~多云</td>\n",
       "      <td>无持续风向微风</td>\n",
       "      <td>周四</td>\n",
       "    </tr>\n",
       "  </tbody>\n",
       "</table>\n",
       "</div>"
      ],
      "text/plain": [
       "           日期  最高温  最低温    天气             风力风向  星期\n",
       "0  2012-01-01    3   -4  多云~阴          无持续风向微风  周日\n",
       "1  2012-01-02    2   -6     晴           北风4-5级  周一\n",
       "2  2012-01-03    1   -8     晴  北风~无持续风向3-4级~微风  周二\n",
       "3  2012-01-04    1  -10     晴          无持续风向微风  周三\n",
       "4  2012-01-05    2   -8  晴~多云          无持续风向微风  周四"
      ]
     },
     "execution_count": 22,
     "metadata": {},
     "output_type": "execute_result"
    }
   ],
   "source": [
    "df.head()"
   ]
  },
  {
   "cell_type": "code",
   "execution_count": 23,
   "id": "676169ac",
   "metadata": {},
   "outputs": [
    {
     "data": {
      "text/plain": [
       "日期      object\n",
       "最高温      int64\n",
       "最低温      int64\n",
       "天气      object\n",
       "风力风向    object\n",
       "星期      object\n",
       "dtype: object"
      ]
     },
     "execution_count": 23,
     "metadata": {},
     "output_type": "execute_result"
    }
   ],
   "source": [
    "df.dtypes"
   ]
  },
  {
   "cell_type": "code",
   "execution_count": null,
   "id": "e7ce476a",
   "metadata": {},
   "outputs": [],
   "source": []
  }
 ],
 "metadata": {
  "kernelspec": {
   "display_name": "Python 3 (ipykernel)",
   "language": "python",
   "name": "python3"
  },
  "language_info": {
   "codemirror_mode": {
    "name": "ipython",
    "version": 3
   },
   "file_extension": ".py",
   "mimetype": "text/x-python",
   "name": "python",
   "nbconvert_exporter": "python",
   "pygments_lexer": "ipython3",
   "version": "3.9.13"
  }
 },
 "nbformat": 4,
 "nbformat_minor": 5
}
