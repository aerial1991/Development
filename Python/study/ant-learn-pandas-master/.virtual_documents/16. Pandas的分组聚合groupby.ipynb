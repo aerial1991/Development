


import pandas as pd
import numpy as np
# 加上这一句，能在jupyter notebook展示matplot图表
%matplotlib inline


df = pd.DataFrame({'A': ['foo', 'bar', 'foo', 'bar', 'foo', 'bar', 'foo', 'foo'],
                   'B': ['one', 'one', 'two', 'three', 'two', 'two', 'one', 'three'],
                   'C': np.random.randn(8),
                   'D': np.random.randn(8)})
df








df.groupby('A').sum()








df.groupby(['A','B']).mean()





df.groupby(['A','B'], as_index=False).mean()





df.groupby('A')[["C", "D"]].agg(["sum", "mean", "std"])








# 方法1：预过滤，性能更好
df.groupby('A')['C'].agg(["sum", "mean", "std"])


# 方法2
df.groupby('A')[["C", "D"]].agg(["sum", "mean", "std"])['C']





df.groupby('A').agg({"C":"sum", "D":"mean"})











g = df.groupby('A')
g


for name,group in g:
    print(name)
    print(group)
    print()





g.get_group('bar')





g = df.groupby(['A', 'B'])


for name,group in g:
    print(name)
    print(group)
    print()





g.get_group(('foo', 'one'))





g['C']


for name, group in g['C']:
    print(name)
    print(group)
    print(type(group))
    print()








fpath = "./datas/beijing_tianqi/beijing_tianqi_2018.csv"
df = pd.read_csv(fpath)
# 替换掉温度的后缀℃
df.loc[:, "bWendu"] = df["bWendu"].str.replace("℃", "").astype('int32')
df.loc[:, "yWendu"] = df["yWendu"].str.replace("℃", "").astype('int32')
df.head()


# 新增一列为月份
df['month'] = df['ymd'].str[:7]
df.head()





data = df.groupby('month')['bWendu'].max()
data


type(data)


data.plot()





df.head()


group_data = df.groupby('month').agg({"bWendu":"max", "yWendu":"min", "aqi":"mean"})
group_data


group_data.plot()



